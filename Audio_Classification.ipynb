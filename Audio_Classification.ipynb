{
  "nbformat": 4,
  "nbformat_minor": 0,
  "metadata": {
    "accelerator": "GPU",
    "colab": {
      "name": "Audio Classification.ipynb",
      "private_outputs": true,
      "provenance": [],
      "authorship_tag": "ABX9TyPggu1s3YT45wi85kLJSBay",
      "include_colab_link": true
    },
    "kernelspec": {
      "display_name": "Python 3",
      "name": "python3"
    },
    "language_info": {
      "name": "python"
    }
  },
  "cells": [
    {
      "cell_type": "markdown",
      "metadata": {
        "id": "view-in-github",
        "colab_type": "text"
      },
      "source": [
        "<a href=\"https://colab.research.google.com/github/salonigupta1/AudioClassification/blob/main/Audio_Classification.ipynb\" target=\"_parent\"><img src=\"https://colab.research.google.com/assets/colab-badge.svg\" alt=\"Open In Colab\"/></a>"
      ]
    },
    {
      "cell_type": "code",
      "metadata": {
        "id": "vscx1Kn8iv-V"
      },
      "source": [
        "from google.colab import drive\n",
        "drive.mount('/content/drive')"
      ],
      "execution_count": null,
      "outputs": []
    },
    {
      "cell_type": "code",
      "metadata": {
        "id": "O1EotZoziyQm"
      },
      "source": [
        "import librosa\n",
        "audio_file_path = '/content/drive/MyDrive/UrbanSound8K/audio/fold1/101415-3-0-2.wav'\n",
        "librosa_audio_data, librosa_sample_rate = librosa.load(audio_file_path)"
      ],
      "execution_count": null,
      "outputs": []
    },
    {
      "cell_type": "code",
      "metadata": {
        "id": "hshaWHeCjXwe"
      },
      "source": [
        "print(librosa_audio_data)"
      ],
      "execution_count": null,
      "outputs": []
    },
    {
      "cell_type": "code",
      "metadata": {
        "id": "PfS1MBtpjbE1"
      },
      "source": [
        "import matplotlib.pyplot as plt\n",
        "plt.figure(figsize=(12, 4))\n",
        "plt.plot(librosa_audio_data)"
      ],
      "execution_count": null,
      "outputs": []
    },
    {
      "cell_type": "code",
      "metadata": {
        "id": "oICozSr2j6EN"
      },
      "source": [
        "from scipy.io import wavfile as wav\n",
        "wave_sample_rate, wave_audio = wav.read(audio_file_path)"
      ],
      "execution_count": null,
      "outputs": []
    },
    {
      "cell_type": "code",
      "metadata": {
        "id": "pr_ySzSxkMXF"
      },
      "source": [
        "wave_audio"
      ],
      "execution_count": null,
      "outputs": []
    },
    {
      "cell_type": "code",
      "metadata": {
        "id": "F8xRkBkmkQD4"
      },
      "source": [
        "import matplotlib.pyplot as plt\n",
        "plt.plot(wave_audio)"
      ],
      "execution_count": null,
      "outputs": []
    },
    {
      "cell_type": "code",
      "metadata": {
        "id": "1peZibd4nW7y"
      },
      "source": [
        "mfccs = librosa.feature.mfcc(y=librosa_audio_data, sr=librosa_sample_rate, n_mfcc=40)\n",
        "print(mfccs.shape)"
      ],
      "execution_count": null,
      "outputs": []
    },
    {
      "cell_type": "code",
      "metadata": {
        "id": "jfdiHVRdnyl8"
      },
      "source": [
        "mfccs"
      ],
      "execution_count": null,
      "outputs": []
    },
    {
      "cell_type": "code",
      "metadata": {
        "id": "Yk9FAFX4n1FM"
      },
      "source": [
        "import pandas as pd\n",
        "import os\n",
        "import librosa\n",
        "\n",
        "audio_dataset_path = '/content/drive/MyDrive/UrbanSound8K/audio/'\n",
        "metadata = pd.read_csv('/content/drive/MyDrive/UrbanSound8K/metadata/UrbanSound8K.csv')\n",
        "metadata.head()"
      ],
      "execution_count": null,
      "outputs": []
    },
    {
      "cell_type": "code",
      "metadata": {
        "id": "oJmggWIVoPqa"
      },
      "source": [
        "def feature_extractor(file_name):\n",
        "  audio, sample_rate = librosa.load(file_name, res_type='kaiser_fast')\n",
        "  mfccs_features = librosa.feature.mfcc(y=audio, sr=sample_rate, n_mfcc=40)\n",
        "  mfccs_scaled_features = np.mean(mfccs_features.T, axis = 0)\n",
        "\n",
        "  return mfccs_scaled_features"
      ],
      "execution_count": null,
      "outputs": []
    },
    {
      "cell_type": "code",
      "metadata": {
        "id": "4cb-LUlApCHx"
      },
      "source": [
        "import numpy as np\n",
        "from tqdm import tqdm\n",
        "\n",
        "extracted_features = []\n",
        "for index_num, row in tqdm(metadata.iterrows()):\n",
        "  file_name = os.path.join(os.path.abspath(audio_dataset_path), 'fold'+str(row[\"fold\"])+'/', str(row[\"slice_file_name\"]))\n",
        "  final_class_labels = row[\"class\"]\n",
        "  data = feature_extractor(file_name)\n",
        "  extracted_features.append([data, final_class_labels])"
      ],
      "execution_count": null,
      "outputs": []
    },
    {
      "cell_type": "code",
      "metadata": {
        "id": "SiYpYRSJp1i1"
      },
      "source": [
        "extracted_features_df = pd.DataFrame(extracted_features, columns = ['feature', 'class'])\n",
        "extracted_features_df.head()"
      ],
      "execution_count": null,
      "outputs": []
    },
    {
      "cell_type": "code",
      "metadata": {
        "id": "PoPBNzkNgoii"
      },
      "source": [
        "X = np.array(extracted_features_df['feature'].tolist())\n",
        "Y = np.array(extracted_features_df['class'].tolist())"
      ],
      "execution_count": null,
      "outputs": []
    },
    {
      "cell_type": "code",
      "metadata": {
        "id": "puK0MNSzg03d"
      },
      "source": [
        "X.shape"
      ],
      "execution_count": null,
      "outputs": []
    },
    {
      "cell_type": "code",
      "metadata": {
        "id": "qVxeruDyg402"
      },
      "source": [
        "# from sklearn.preprocessing import LabelEncoder\n",
        "# label_encoder = LabelEncoder()\n",
        "Y = np.array(pd.get_dummies(Y))"
      ],
      "execution_count": null,
      "outputs": []
    },
    {
      "cell_type": "code",
      "metadata": {
        "id": "ysEyrjs5hJnM"
      },
      "source": [
        "from sklearn.model_selection import train_test_split\n",
        "X_train, X_test, Y_train, Y_test = train_test_split(X, Y, test_size = 0.2, random_state = 0)"
      ],
      "execution_count": null,
      "outputs": []
    },
    {
      "cell_type": "code",
      "metadata": {
        "id": "B3KFu1yQhyaT"
      },
      "source": [
        "X_train.shape"
      ],
      "execution_count": null,
      "outputs": []
    },
    {
      "cell_type": "code",
      "metadata": {
        "id": "dYceb0Lah0Us"
      },
      "source": [
        "X_test.shape"
      ],
      "execution_count": null,
      "outputs": []
    },
    {
      "cell_type": "code",
      "metadata": {
        "id": "y1t1BH43h1_E"
      },
      "source": [
        "Y_train.shape"
      ],
      "execution_count": null,
      "outputs": []
    },
    {
      "cell_type": "code",
      "metadata": {
        "id": "VwXedU6Lh3hA"
      },
      "source": [
        "Y_test.shape"
      ],
      "execution_count": null,
      "outputs": []
    },
    {
      "cell_type": "code",
      "metadata": {
        "id": "jtUoYrpaijz5"
      },
      "source": [
        ""
      ],
      "execution_count": null,
      "outputs": []
    }
  ]
}